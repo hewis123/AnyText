# 技术交流及问题联系：
# 公众号：AIproall
# 微信：ai285016567

%cd /content
!git clone -b dev https://github.com/camenduru/studio_anytext-ms
%cd /content/studio_anytext-ms

!pip install -q modelscope omegaconf pytorch-lightning sentencepiece gradio==3.50.2 open-clip-torch sacremoses subword_nmt
!pip install -q https://download.pytorch.org/whl/cu121/xformers-0.0.22.post7-cp310-cp310-manylinux2014_x86_64.whl

!python app.py